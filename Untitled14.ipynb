{
  "nbformat": 4,
  "nbformat_minor": 0,
  "metadata": {
    "colab": {
      "name": "Untitled14.ipynb",
      "provenance": [],
      "authorship_tag": "ABX9TyPeExnNkX5UrM0WWXJeWJ4F"
    },
    "kernelspec": {
      "name": "python3",
      "display_name": "Python 3"
    },
    "language_info": {
      "name": "python"
    }
  },
  "cells": [
    {
      "cell_type": "markdown",
      "source": [
        "pywhatkit: faz envio de msm no whatsaap\n",
        "keyboard: nos permite usar comandos do teclado\n",
        "time: para simular pausa em cada envio de msm\n",
        "datetime: para planejar o envio "
      ],
      "metadata": {
        "id": "sH5qdcCZLhvu"
      }
    },
    {
      "cell_type": "code",
      "source": [
        "import pywhatkit\n",
        "import keyboard\n",
        "import time\n",
        "from datetime import datetime"
      ],
      "metadata": {
        "id": "H4tkvpBNMPsv"
      },
      "execution_count": null,
      "outputs": []
    },
    {
      "cell_type": "code",
      "source": [
        "contatos = ['+5561993181411', '+5561991912715', '5561981113397', '+5561991867494']"
      ],
      "metadata": {
        "id": "imT-p9ybL-YI"
      },
      "execution_count": 1,
      "outputs": []
    },
    {
      "cell_type": "markdown",
      "source": [
        "definindo o intervalo de envio "
      ],
      "metadata": {
        "id": "RNxeCFjSMSXg"
      }
    },
    {
      "cell_type": "code",
      "source": [
        "while len(contatos) >= 1:\n",
        "    pywhatkit.sendwhatmsg(contatos[0],'test bot whatsapp p lista de contatos!!! ',datetime.now().hour,datetime.now().minute + 2\n",
        "    )\n",
        "    del contatos[0]\n",
        "    time.sleep(60)\n",
        "    keyboard.press_and_release('ctrl + w')"
      ],
      "metadata": {
        "id": "1rK9m_YJMgje"
      },
      "execution_count": null,
      "outputs": []
    },
    {
      "cell_type": "code",
      "source": [
        ""
      ],
      "metadata": {
        "id": "BJtvP5DENEk_"
      },
      "execution_count": null,
      "outputs": []
    }
  ]
}